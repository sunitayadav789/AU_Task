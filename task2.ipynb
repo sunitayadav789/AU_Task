{
  "nbformat": 4,
  "nbformat_minor": 0,
  "metadata": {
    "colab": {
      "provenance": []
    },
    "kernelspec": {
      "name": "python3",
      "display_name": "Python 3"
    },
    "language_info": {
      "name": "python"
    }
  },
  "cells": [
    {
      "cell_type": "code",
      "execution_count": null,
      "metadata": {
        "colab": {
          "base_uri": "https://localhost:8080/"
        },
        "id": "Z1QcI-fODjar",
        "outputId": "3dc64f9c-80d3-4185-e339-df782adfc40f"
      },
      "outputs": [
        {
          "output_type": "stream",
          "name": "stdout",
          "text": [
            "enter the salary500000\n",
            "50000.0\n",
            "25000.0\n",
            "15000.0\n",
            "90000.0\n",
            "30000.0\n"
          ]
        }
      ],
      "source": [
        "salary=int(input(\"enter the salary\"))\n",
        "hra=salary*(10/100)\n",
        "print(hra)\n",
        "DA=salary*(5/100)\n",
        "print(DA)\n",
        "Pf=salary*(3/100)\n",
        "print(Pf)\n",
        "print(hra+DA+Pf)\n",
        "if salary < 500000:\n",
        "    tax_rate = 0\n",
        "elif salary <= 1000000:\n",
        "    tax_rate = (10/100)\n",
        "elif salary <= 2000000:\n",
        "    tax_rate = (20/100)\n",
        "else:\n",
        "    tax_rate = (20/100)\n",
        "\n",
        "tax = tax_rate * salary\n",
        "anual_salary=salary-( (hra + DA + Pf+ tax))\n",
        "monthly_salary=anual_salary/12\n",
        "print(monthly_salary)\n"
      ]
    },
    {
      "cell_type": "code",
      "source": [
        "angel1=int(input(\"enter the angle 1\"))\n",
        "angel2=int(input(\"enter the angle 2\"))\n",
        "angel3=int(input(\"enter the angle 3\"))\n",
        "sum=angel1+angel2+angel3\n",
        "if sum==180:\n",
        "  print(\"this is tringale\")\n",
        "else:\n",
        "   Print(\"this is not tringale\")"
      ],
      "metadata": {
        "colab": {
          "base_uri": "https://localhost:8080/"
        },
        "id": "w327kKMFRQZs",
        "outputId": "a19be7a0-e2d7-4678-f336-d7fb8c203fcf"
      },
      "execution_count": null,
      "outputs": [
        {
          "output_type": "stream",
          "name": "stdout",
          "text": [
            "enter the angle 120\n",
            "enter the angle 280\n",
            "enter the angle 380\n",
            "this is tringale\n"
          ]
        }
      ]
    },
    {
      "cell_type": "code",
      "source": [
        "cost_price=int(input(\"enter the cost\"))\n",
        "selling_price=int(input(\"enter the sell price\"))\n",
        "if selling_price>cost_price:\n",
        "  print(\"profit\")\n",
        "else:\n",
        "  print(\"loss\")"
      ],
      "metadata": {
        "colab": {
          "base_uri": "https://localhost:8080/"
        },
        "id": "_W3bpZqRSvw1",
        "outputId": "dc00e235-39c5-4a66-af27-af49615f1988"
      },
      "execution_count": null,
      "outputs": [
        {
          "output_type": "stream",
          "name": "stdout",
          "text": [
            "enter the cost5000\n",
            "enter the sell price6000\n",
            "profit\n"
          ]
        }
      ]
    },
    {
      "cell_type": "code",
      "source": [
        "while True:\n",
        "    print(\"\\n Menu \")\n",
        "    print(\"1 cm to ft\")\n",
        "    print(\"2 km to miles\")\n",
        "    print(\"3 USD to INR\")\n",
        "    print(\"4 Exit\")\n",
        "\n",
        "    choice = int(input(\"Enter your choice (1-4): \"))\n",
        "    if choice == 1:\n",
        "      cm = float(input(\"Enter length in centimeters: \"))\n",
        "      ft = cm / 30.48\n",
        "      print(ft)\n",
        "    elif choice == 2:\n",
        "      km = float(input(\"Enter length in kilometers: \"))\n",
        "      miles = km / 0.621371\n",
        "      print(miles)\n",
        "    elif choice == 3:\n",
        "      usd = float(input(\"Enter length in kilometers: \"))\n",
        "      Inr = usd /85\n",
        "      print(Inr)\n",
        "    elif choice == 4:\n",
        "      break\n",
        "    else:\n",
        "      print(\"enter valid input\")\n",
        "\n",
        "\n",
        "\n",
        "\n",
        "\n"
      ],
      "metadata": {
        "colab": {
          "base_uri": "https://localhost:8080/"
        },
        "id": "JDFLmz8kTdW_",
        "outputId": "7267963f-d860-4f17-fb88-c3077683b6f8"
      },
      "execution_count": null,
      "outputs": [
        {
          "name": "stdout",
          "output_type": "stream",
          "text": [
            "\n",
            " Menu \n",
            "1 cm to ft\n",
            "2 km to miles\n",
            "3 USD to INR\n",
            "4 Exit\n",
            "Enter your choice (1-4): 2\n",
            "Enter length in kilometers: 2\n",
            "3.2186889957851266\n",
            "\n",
            " Menu \n",
            "1 cm to ft\n",
            "2 km to miles\n",
            "3 USD to INR\n",
            "4 Exit\n",
            "Enter your choice (1-4): 4\n"
          ]
        }
      ]
    },
    {
      "cell_type": "code",
      "source": [
        "\"fibonachi\"\n",
        "n = int(input(\"Enter how many terms: \"))\n",
        "\n",
        "a, b = 0, 1\n",
        "print(\"Fibonacci series:\")\n",
        "\n",
        "for i in range(n):\n",
        "    print(a, end=\" \")\n",
        "    c=a+b\n",
        "    a=b\n",
        "    b=c\n"
      ],
      "metadata": {
        "colab": {
          "base_uri": "https://localhost:8080/"
        },
        "id": "xTp_aITOWdKc",
        "outputId": "038bed57-1e8c-47d0-be7a-6524bb17c821"
      },
      "execution_count": null,
      "outputs": [
        {
          "output_type": "stream",
          "name": "stdout",
          "text": [
            "Enter how many terms: 10\n",
            "Fibonacci series:\n",
            "0 1 1 2 3 5 8 13 21 34 "
          ]
        }
      ]
    },
    {
      "cell_type": "code",
      "source": [
        "\"factori\"\n",
        "n=20\n",
        "fact=1\n",
        "for i in range(0,n-1):\n",
        "  fact=fact*(n-i)\n",
        "print(fact)\n",
        "\n"
      ],
      "metadata": {
        "id": "jvrKpu9aAzNf",
        "colab": {
          "base_uri": "https://localhost:8080/"
        },
        "outputId": "5674e5ec-bdfd-475d-f38c-526911ea4f58"
      },
      "execution_count": null,
      "outputs": [
        {
          "output_type": "stream",
          "name": "stdout",
          "text": [
            "2432902008176640000\n"
          ]
        }
      ]
    },
    {
      "cell_type": "code",
      "source": [],
      "metadata": {
        "id": "LeHzuXQBBB-M"
      },
      "execution_count": null,
      "outputs": []
    },
    {
      "cell_type": "code",
      "source": [
        "n=76542\n",
        "reverse=0\n",
        "while n>0:\n",
        "  m=n%10\n",
        "  reverse=reverse*10+m\n",
        "  n=n//10\n",
        "print(reverse)"
      ],
      "metadata": {
        "colab": {
          "base_uri": "https://localhost:8080/"
        },
        "id": "KzXQ4nC6XGb-",
        "outputId": "f34f436e-8265-49ef-be83-deb281d3d16c"
      },
      "execution_count": null,
      "outputs": [
        {
          "output_type": "stream",
          "name": "stdout",
          "text": [
            "24567\n"
          ]
        }
      ]
    },
    {
      "cell_type": "code",
      "source": [
        "n = int(input(\"Enter the number: \"))\n",
        "i = 1\n",
        "sum = 0\n",
        "\n",
        "while i <= n:\n",
        "    if i % 5 == 0:\n",
        "        i += 1\n",
        "        continue\n",
        "\n",
        "    if sum +i> 300:\n",
        "        break\n",
        "    sum += i\n",
        "    i += 1\n",
        "print(sum)"
      ],
      "metadata": {
        "colab": {
          "base_uri": "https://localhost:8080/"
        },
        "id": "yI4yrjpfd7Jk",
        "outputId": "2ecddb16-34d7-42bf-dc96-df38beed84cc"
      },
      "execution_count": null,
      "outputs": [
        {
          "output_type": "stream",
          "name": "stdout",
          "text": [
            "Enter the number: 30\n",
            "276\n"
          ]
        }
      ]
    },
    {
      "cell_type": "code",
      "source": [],
      "metadata": {
        "id": "fEk7-Ne8G2Hj"
      },
      "execution_count": null,
      "outputs": []
    },
    {
      "cell_type": "code",
      "source": [
        "n=1\n",
        "i=0\n",
        "sum=0\n",
        "while n!=0:\n",
        "  n = int(input(\"Enter the number: \"))\n",
        "  sum+=n\n",
        "print(sum)\n",
        "\n"
      ],
      "metadata": {
        "colab": {
          "base_uri": "https://localhost:8080/"
        },
        "id": "n9A6RFK4kRNw",
        "outputId": "157b1cb7-9d44-4fa5-a451-9662724bd376"
      },
      "execution_count": null,
      "outputs": [
        {
          "output_type": "stream",
          "name": "stdout",
          "text": [
            "Enter the number: 66\n",
            "Enter the number: 44\n",
            "Enter the number: 0\n",
            "110\n"
          ]
        }
      ]
    },
    {
      "cell_type": "code",
      "source": [
        "pairs = [(i, j) for i in range(1, 4) for j in range(1, 4)]\n",
        "for pair in pairs:\n",
        "    print(pair[0], pair[1])\n",
        "\n"
      ],
      "metadata": {
        "colab": {
          "base_uri": "https://localhost:8080/"
        },
        "id": "xewlwPY_Y3cZ",
        "outputId": "dd051912-4033-433d-90ff-5223f51ba455"
      },
      "execution_count": null,
      "outputs": [
        {
          "output_type": "stream",
          "name": "stdout",
          "text": [
            "1 1\n",
            "1 2\n",
            "1 3\n",
            "2 1\n",
            "2 2\n",
            "2 3\n",
            "3 1\n",
            "3 2\n",
            "3 3\n"
          ]
        }
      ]
    },
    {
      "cell_type": "code",
      "source": [
        "result=[]\n",
        "for num in range(2000,3200):\n",
        "  if num%7==0 and num %5!=0:\n",
        "    result.append(num)\n",
        "\n",
        "print(result)\n"
      ],
      "metadata": {
        "id": "UFnyZK8ZGbaY",
        "colab": {
          "base_uri": "https://localhost:8080/"
        },
        "outputId": "07fe33b9-cbc8-46cb-e45d-ad751f32f8e3"
      },
      "execution_count": null,
      "outputs": [
        {
          "output_type": "stream",
          "name": "stdout",
          "text": [
            "[2002, 2009, 2016, 2023, 2037, 2044, 2051, 2058, 2072, 2079, 2086, 2093, 2107, 2114, 2121, 2128, 2142, 2149, 2156, 2163, 2177, 2184, 2191, 2198, 2212, 2219, 2226, 2233, 2247, 2254, 2261, 2268, 2282, 2289, 2296, 2303, 2317, 2324, 2331, 2338, 2352, 2359, 2366, 2373, 2387, 2394, 2401, 2408, 2422, 2429, 2436, 2443, 2457, 2464, 2471, 2478, 2492, 2499, 2506, 2513, 2527, 2534, 2541, 2548, 2562, 2569, 2576, 2583, 2597, 2604, 2611, 2618, 2632, 2639, 2646, 2653, 2667, 2674, 2681, 2688, 2702, 2709, 2716, 2723, 2737, 2744, 2751, 2758, 2772, 2779, 2786, 2793, 2807, 2814, 2821, 2828, 2842, 2849, 2856, 2863, 2877, 2884, 2891, 2898, 2912, 2919, 2926, 2933, 2947, 2954, 2961, 2968, 2982, 2989, 2996, 3003, 3017, 3024, 3031, 3038, 3052, 3059, 3066, 3073, 3087, 3094, 3101, 3108, 3122, 3129, 3136, 3143, 3157, 3164, 3171, 3178, 3192, 3199]\n"
          ]
        }
      ]
    },
    {
      "cell_type": "code",
      "source": [
        "result=[]\n",
        "for num in range(1000,3000):\n",
        "  num=str(num)\n",
        "  even_digits=True\n",
        "  for d in num:\n",
        "      if int(d)%2!=0:\n",
        "        even_digits=False\n",
        "  if even_digits:\n",
        "      result.append(num)\n",
        "\n",
        "print(result)"
      ],
      "metadata": {
        "colab": {
          "base_uri": "https://localhost:8080/"
        },
        "id": "SNSc0PrtVK-L",
        "outputId": "1fe39c7f-da06-4aa5-b8ba-039eb3dc8101"
      },
      "execution_count": null,
      "outputs": [
        {
          "output_type": "stream",
          "name": "stdout",
          "text": [
            "['2000', '2002', '2004', '2006', '2008', '2020', '2022', '2024', '2026', '2028', '2040', '2042', '2044', '2046', '2048', '2060', '2062', '2064', '2066', '2068', '2080', '2082', '2084', '2086', '2088', '2200', '2202', '2204', '2206', '2208', '2220', '2222', '2224', '2226', '2228', '2240', '2242', '2244', '2246', '2248', '2260', '2262', '2264', '2266', '2268', '2280', '2282', '2284', '2286', '2288', '2400', '2402', '2404', '2406', '2408', '2420', '2422', '2424', '2426', '2428', '2440', '2442', '2444', '2446', '2448', '2460', '2462', '2464', '2466', '2468', '2480', '2482', '2484', '2486', '2488', '2600', '2602', '2604', '2606', '2608', '2620', '2622', '2624', '2626', '2628', '2640', '2642', '2644', '2646', '2648', '2660', '2662', '2664', '2666', '2668', '2680', '2682', '2684', '2686', '2688', '2800', '2802', '2804', '2806', '2808', '2820', '2822', '2824', '2826', '2828', '2840', '2842', '2844', '2846', '2848', '2860', '2862', '2864', '2866', '2868', '2880', '2882', '2884', '2886', '2888']\n"
          ]
        }
      ]
    },
    {
      "cell_type": "code",
      "source": [
        "mylist = []\n",
        "temp = \"\"\n",
        "s = \"i am going to puri\"\n",
        "for i in s:\n",
        "    if i != \" \":\n",
        "        temp += i\n",
        "    else:\n",
        "        mylist.append(temp)\n",
        "        temp = \"\"\n",
        "if temp:\n",
        "    mylist.append(temp)\n",
        "print(mylist)"
      ],
      "metadata": {
        "colab": {
          "base_uri": "https://localhost:8080/"
        },
        "id": "I6pfoCGaDPxs",
        "outputId": "8513d6b2-01e8-4afc-a7f6-ff0114a36313"
      },
      "execution_count": null,
      "outputs": [
        {
          "output_type": "stream",
          "name": "stdout",
          "text": [
            "['i', 'am', 'going', 'to', 'puri']\n"
          ]
        }
      ]
    },
    {
      "cell_type": "code",
      "source": [
        "name=\"Asin vijay\"\n",
        "name2=\"\"\n",
        "for i in range(0,len(name)):\n",
        "  if name[i]!=\"v\":\n",
        "     name2+=name[i]\n",
        "print(name2)"
      ],
      "metadata": {
        "id": "1L9Nkef1GIZx",
        "colab": {
          "base_uri": "https://localhost:8080/"
        },
        "outputId": "9acfa261-60e1-4a4a-d33a-56b029d5281f"
      },
      "execution_count": null,
      "outputs": [
        {
          "output_type": "stream",
          "name": "stdout",
          "text": [
            "Asin ijay\n"
          ]
        }
      ]
    },
    {
      "cell_type": "code",
      "source": [
        "a = \"asinee\"\n",
        "for char in a:\n",
        "    print(char)\n",
        "    if char != \"e\":\n",
        "        print(\"Not 'e':\", char)"
      ],
      "metadata": {
        "colab": {
          "base_uri": "https://localhost:8080/"
        },
        "id": "i04PoQo4MbMs",
        "outputId": "3bf311a7-24b8-43d4-e34f-651b8b8e019c"
      },
      "execution_count": null,
      "outputs": [
        {
          "output_type": "stream",
          "name": "stdout",
          "text": [
            "a\n",
            "Not 'e': a\n",
            "s\n",
            "Not 'e': s\n",
            "i\n",
            "Not 'e': i\n",
            "n\n",
            "Not 'e': n\n",
            "e\n",
            "e\n"
          ]
        }
      ]
    },
    {
      "cell_type": "code",
      "source": [
        "x = 123\n",
        "s = f\"{x}\"\n",
        "print(s, type(s))"
      ],
      "metadata": {
        "colab": {
          "base_uri": "https://localhost:8080/"
        },
        "id": "9LEJHeuOPPbP",
        "outputId": "17d5220a-21dc-4270-a8f5-91c53e565284"
      },
      "execution_count": null,
      "outputs": [
        {
          "output_type": "stream",
          "name": "stdout",
          "text": [
            "123 <class 'str'>\n"
          ]
        }
      ]
    },
    {
      "cell_type": "code",
      "source": [
        "x = 123\n",
        "s = \"%s\" % x\n",
        "print(s, type(s))  # Ou"
      ],
      "metadata": {
        "colab": {
          "base_uri": "https://localhost:8080/"
        },
        "id": "4VORS0o2RNHA",
        "outputId": "02c58ab6-7e8d-4a88-ab94-534aa2874e21"
      },
      "execution_count": null,
      "outputs": [
        {
          "output_type": "stream",
          "name": "stdout",
          "text": [
            "123 <class 'str'>\n"
          ]
        }
      ]
    },
    {
      "cell_type": "code",
      "source": [
        "digits=\"0123456789\"\n",
        "num=int(input(\"enter the number\"))\n",
        "result=\"\"\n",
        "while num!=0:\n",
        "  index=num%10\n",
        "  result=digits[index]+result\n",
        "  num=num//10\n",
        "reversed_result = result[::-1]\n",
        "print(reversed_result)\n",
        "print(result)\n",
        "type(result)"
      ],
      "metadata": {
        "colab": {
          "base_uri": "https://localhost:8080/"
        },
        "id": "15M9muNTWJIl",
        "outputId": "d24b56ec-1cfa-4e81-9591-65c1c0b2abca"
      },
      "execution_count": null,
      "outputs": [
        {
          "output_type": "stream",
          "name": "stdout",
          "text": [
            "enter the number520\n",
            "025\n",
            "520\n"
          ]
        },
        {
          "output_type": "execute_result",
          "data": {
            "text/plain": [
              "str"
            ]
          },
          "metadata": {},
          "execution_count": 46
        }
      ]
    },
    {
      "cell_type": "code",
      "source": [
        "import math\n",
        "x=0\n",
        "y=0\n",
        "up = int(input(\"Enter steps moved UP: \"))\n",
        "down = int(input(\"Enter steps moved DOWN: \"))\n",
        "left = int(input(\"Enter steps moved LEFT: \"))\n",
        "right = int(input(\"Enter steps moved RIGHT: \"))\n",
        "x+=left\n",
        "x-=right\n",
        "y+=up\n",
        "y-=down\n",
        "distance=math.sqrt(x**2+y**2)\n",
        "print(int(distance))"
      ],
      "metadata": {
        "colab": {
          "base_uri": "https://localhost:8080/"
        },
        "id": "MbEOEG3z0ueK",
        "outputId": "5074a494-7107-4330-c531-d5b318609e81"
      },
      "execution_count": null,
      "outputs": [
        {
          "output_type": "stream",
          "name": "stdout",
          "text": [
            "Enter steps moved UP: 5\n",
            "Enter steps moved DOWN: 3\n",
            "Enter steps moved LEFT: 3\n",
            "Enter steps moved RIGHT: 2\n",
            "2\n"
          ]
        }
      ]
    },
    {
      "cell_type": "code",
      "source": [
        "hour=9\n",
        "minute=0\n",
        "hour_angle=30*hour+0.5*minute\n",
        "minute_angle=6*minute\n",
        "#angle between them\n",
        "angle=hour_angle-minute_angle\n",
        "f_angle=min(angle,360-angle)\n",
        "print(int(f_angle))"
      ],
      "metadata": {
        "colab": {
          "base_uri": "https://localhost:8080/"
        },
        "id": "d1k-NxGWRTEo",
        "outputId": "0f7f002a-bbd5-4e1e-b044-e713b8e72c6a"
      },
      "execution_count": null,
      "outputs": [
        {
          "output_type": "stream",
          "name": "stdout",
          "text": [
            "90\n"
          ]
        }
      ]
    },
    {
      "cell_type": "code",
      "source": [
        "text = \"hello world\"\n",
        "words = text.split()\n",
        "# Split the text into words\n",
        "capitalized_words = [word.capitalize() for word in words]\n",
        "# Capitalize each word\n",
        "final_text = ' '.join(capitalized_words)\n",
        "# Join the words back together\n",
        "print(final_text)\n"
      ],
      "metadata": {
        "colab": {
          "base_uri": "https://localhost:8080/"
        },
        "id": "akS9nRLkVT3t",
        "outputId": "513ee953-0bf9-4945-aeeb-6dcdde1f7990"
      },
      "execution_count": null,
      "outputs": [
        {
          "output_type": "stream",
          "name": "stdout",
          "text": [
            "Hello World\n"
          ]
        }
      ]
    },
    {
      "cell_type": "code",
      "source": [
        "text = \"hello world\"\n",
        "capitalized_text = text.title()\n",
        "print(capitalized_text)\n",
        "\n"
      ],
      "metadata": {
        "colab": {
          "base_uri": "https://localhost:8080/"
        },
        "id": "8ICaAjF0ep7o",
        "outputId": "c3672be7-cc1d-4979-ba47-20c2eb101a50"
      },
      "execution_count": null,
      "outputs": [
        {
          "output_type": "stream",
          "name": "stdout",
          "text": [
            "Hello World\n"
          ]
        }
      ]
    },
    {
      "cell_type": "code",
      "source": [
        "s=\"asin vijay\"\n",
        "s.isalpha()\n"
      ],
      "metadata": {
        "colab": {
          "base_uri": "https://localhost:8080/"
        },
        "id": "7QqO5QYUevT4",
        "outputId": "ef2eae20-b1aa-4247-b647-8b9ab9df2e23"
      },
      "execution_count": null,
      "outputs": [
        {
          "output_type": "execute_result",
          "data": {
            "text/plain": [
              "False"
            ]
          },
          "metadata": {},
          "execution_count": 42
        }
      ]
    }
  ]
}