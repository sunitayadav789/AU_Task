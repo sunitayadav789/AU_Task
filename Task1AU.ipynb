{
 "cells": [
  {
   "cell_type": "code",
   "execution_count": 15,
   "id": "e9d7ee61-0609-4458-9773-fa05b8819d82",
   "metadata": {},
   "outputs": [
    {
     "name": "stdin",
     "output_type": "stream",
     "text": [
      "Enter the value of tempertaure in celsius: 25\n"
     ]
    },
    {
     "name": "stdout",
     "output_type": "stream",
     "text": [
      "temperature in fahrenheit: 77.0\n"
     ]
    }
   ],
   "source": [
    "## Q2:- Write a program that will convert celsius value to fahrenheit...\n",
    "celsius=float(input(\"Enter the value of tempertaure in celsius:\"))\n",
    "fahrenheit=(celsius*9/5)+32\n",
    "print(\"temperature in fahrenheit:\",fahrenheit)\n",
    "\n"
   ]
  },
  {
   "cell_type": "code",
   "execution_count": 2,
   "id": "1573a333-51ae-4e30-b3bd-7268f495dfc2",
   "metadata": {},
   "outputs": [
    {
     "name": "stdin",
     "output_type": "stream",
     "text": [
      "Enter the value of a: 4\n",
      "Enter the value of b: 5\n"
     ]
    },
    {
     "name": "stdout",
     "output_type": "stream",
     "text": [
      "Swapping value of a: 5\n",
      "Swapping value of a: 4\n"
     ]
    }
   ],
   "source": [
    "# Q3:- Take 2 numbers as input from the user.Write a program to swap the numbers without using any special python syntax.\n",
    "\n",
    "a=int(input(\"Enter the value of a:\"))\n",
    "b=int(input(\"Enter the value of b:\"))\n",
    "a=a+b\n",
    "b=a-b\n",
    "a=a-b\n",
    "print(\"Swapping value of a:\",a)\n",
    "print(\"Swapping value of a:\",b)"
   ]
  },
  {
   "cell_type": "code",
   "execution_count": 14,
   "id": "2f68e75b-d996-47d7-a8f5-cbfeee5ca69d",
   "metadata": {},
   "outputs": [
    {
     "name": "stdin",
     "output_type": "stream",
     "text": [
      "Enter the value of x1: 2\n",
      "Enter the value of y1: 2\n",
      "Enter the value of x2: 3\n",
      "Enter the value of y2: 3\n"
     ]
    },
    {
     "name": "stdout",
     "output_type": "stream",
     "text": [
      "Euclidean distance: 1.4142135623730951\n"
     ]
    }
   ],
   "source": [
    "## Q4:- Write a program to find the euclidean distance between two coordinates.Take both the coordinates from the user as input.\n",
    "x1=int(input(\"Enter the value of x1:\"))\n",
    "y1=int(input(\"Enter the value of y1:\"))\n",
    "x2=int(input(\"Enter the value of x2:\"))\n",
    "y2=int(input(\"Enter the value of y2:\"))\n",
    "s = (((x2 - x1) ** 2) + ((y2 - y1) ** 2)) ** 0.5\n",
    "print(\"Euclidean distance:\",s)"
   ]
  },
  {
   "cell_type": "code",
   "execution_count": 13,
   "id": "b325052e-7e9a-42e4-8d8f-16a7bd6b5e3b",
   "metadata": {},
   "outputs": [
    {
     "name": "stdin",
     "output_type": "stream",
     "text": [
      "Enter the value of principal 4\n",
      "Enter the value of rate 2.5\n",
      "Enter the value of time 2\n"
     ]
    },
    {
     "name": "stdout",
     "output_type": "stream",
     "text": [
      "simple interest: 20.0\n"
     ]
    }
   ],
   "source": [
    "#Q5:- Write a program to find the simple interest when the value of principle,rate of interest and time period is provided by the user.\n",
    "principal=int(input(\"Enter the value of principal\"))\n",
    "rate=float(input(\"Enter the value of rate\"))\n",
    "time_period=int(input(\"Enter the value of time\"))\n",
    "simple_interest=principal*rate*time_period\n",
    "print(\"Simple interest:\",simple_interest)\n",
    "\n",
    "\n"
   ]
  },
  {
   "cell_type": "code",
   "execution_count": 16,
   "id": "5b59da76-312c-4c54-9adc-15be9d581dba",
   "metadata": {},
   "outputs": [],
   "source": [
    "# Q6:- Write a program that will tell the number of dogs and chicken are there when the user will provide the value of total heads and legs.\n"
   ]
  },
  {
   "cell_type": "code",
   "execution_count": 18,
   "id": "aaf6534f-5c2f-4dc5-87f8-8e86673d4422",
   "metadata": {},
   "outputs": [
    {
     "name": "stdin",
     "output_type": "stream",
     "text": [
      "Enter the value of n: 3\n"
     ]
    },
    {
     "name": "stdout",
     "output_type": "stream",
     "text": [
      "14\n"
     ]
    }
   ],
   "source": [
    "# Q7:- Write a program to find the sum of squares of first n natural numbers where n will be provided by the user.\n",
    "n=int(input(\"Enter the value of n:\"))\n",
    "sum=0\n",
    "for i in range(1,n+1):\n",
    "    i=i**2\n",
    "    sum=sum+i\n",
    "print(sum)\n"
   ]
  },
  {
   "cell_type": "code",
   "execution_count": 23,
   "id": "3117ab89-c765-4a61-a8bf-13b4661eb07a",
   "metadata": {},
   "outputs": [
    {
     "name": "stdin",
     "output_type": "stream",
     "text": [
      "Enter the value of a: 4\n",
      "Enter the value of b: 8\n",
      "Enter the nth number: 6\n"
     ]
    },
    {
     "name": "stdout",
     "output_type": "stream",
     "text": [
      "24\n"
     ]
    }
   ],
   "source": [
    "# Q8:- Given the first 2 terms of an Arithmetic Series.Find the Nth term of the series. Assume all inputs are provided by the user.\n",
    "a=int(input(\"Enter the value of a:\"))\n",
    "b=int(input(\"Enter the value of b:\"))\n",
    "n=int(input(\"Enter the nth number:\"))\n",
    "d=b-a\n",
    "term=a+(n-1)*d\n",
    "print(term)\n",
    "\n"
   ]
  },
  {
   "cell_type": "code",
   "execution_count": 27,
   "id": "d6600530-6b99-40ae-8374-ac0edcb62537",
   "metadata": {},
   "outputs": [
    {
     "name": "stdin",
     "output_type": "stream",
     "text": [
      "Enter the value of num_a: 2\n",
      "Enter the value of den_a: 1\n",
      "Enter the value of num_b: 2\n",
      "Enter the value of den_b: 1\n"
     ]
    },
    {
     "name": "stdout",
     "output_type": "stream",
     "text": [
      "4.0\n"
     ]
    }
   ],
   "source": [
    "# Q9:- Given 2 fractions, find the sum of those 2 fractions.Take the numerator and denominator values of the fractions from the user.\n",
    "num_a=a=int(input(\"Enter the value of num_a:\"))\n",
    "den_a=int(input(\"Enter the value of den_a:\"))\n",
    "num_b=int(input(\"Enter the value of num_b:\"))\n",
    "den_b=int(input(\"Enter the value of den_b:\"))\n",
    "sum=((num_a/den_a)+(num_a/den_b))\n",
    "print(sum)"
   ]
  },
  {
   "cell_type": "code",
   "execution_count": 31,
   "id": "15a116e0-b7f3-4387-9422-3ab587c6d3b7",
   "metadata": {},
   "outputs": [
    {
     "name": "stdin",
     "output_type": "stream",
     "text": [
      "Enter the value of height_tank: 20\n",
      "Enter the value of width_tank: 20\n",
      "Enter the value of breadth_tank: 20\n",
      "Enter the value of height_glass: 3\n",
      "Enter the value of r: 1\n"
     ]
    },
    {
     "name": "stdout",
     "output_type": "stream",
     "text": [
      "Number of glasses: 849.0\n"
     ]
    }
   ],
   "source": [
    "#Given the height, width and breadth of a milk tank, you have to find out how many glasses of milk can be obtained? Assume all the inputs are provided by the user.\n",
    "height_tank=float(input(\"Enter the value of height_tank:\"))\n",
    "width_tank=float(input(\"Enter the value of width_tank:\"))\n",
    "breadth_tank=float(input(\"Enter the value of breadth_tank:\"))\n",
    "height_glass=float(input(\"Enter the value of height_glass:\"))\n",
    "r_glass=float(input(\"Enter the value of r:\"))\n",
    "volume_tank=height_tank*width_tank*breadth_tank\n",
    "volume_glass=3.14*height_glass*r_glass\n",
    "number_glasses=volume_tank//volume_glass\n",
    "print(\"Number of glasses:\",number_glasses)\n",
    "\n",
    "             \n"
   ]
  },
  {
   "cell_type": "code",
   "execution_count": null,
   "id": "1f601a90-c54d-4551-a17f-f738f4ca8024",
   "metadata": {},
   "outputs": [],
   "source": []
  }
 ],
 "metadata": {
  "kernelspec": {
   "display_name": "Python 3 (ipykernel)",
   "language": "python",
   "name": "python3"
  },
  "language_info": {
   "codemirror_mode": {
    "name": "ipython",
    "version": 3
   },
   "file_extension": ".py",
   "mimetype": "text/x-python",
   "name": "python",
   "nbconvert_exporter": "python",
   "pygments_lexer": "ipython3",
   "version": "3.13.1"
  }
 },
 "nbformat": 4,
 "nbformat_minor": 5
}
